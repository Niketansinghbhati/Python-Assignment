{
 "cells": [
  {
   "cell_type": "code",
   "execution_count": 1,
   "id": "1c140e2d-15c1-4218-9fc3-2a3d7f28978d",
   "metadata": {
    "scrolled": true
   },
   "outputs": [
    {
     "data": {
      "text/plain": [
       "'There are many key features in python that make it popular.\\n1-Large Standard Library.\\n2- Easy to Learn and Read.\\n3-Versatility.\\n3-Interpretation and Compilation.\\n4-Dynamic Typing.\\n5-Dynamic Typing.'"
      ]
     },
     "execution_count": 1,
     "metadata": {},
     "output_type": "execute_result"
    }
   ],
   "source": [
    "# Assisgnment of Basic Python:-\n",
    "# Q-1 Explain the key features of Python that make it a popular choice for programming.\n",
    "\"\"\"There are many key features in python that make it popular.\n",
    "1-Large Standard Library.\n",
    "2- Easy to Learn and Read.\n",
    "3-Versatility.\n",
    "3-Interpretation and Compilation.\n",
    "4-Dynamic Typing.\n",
    "5-Dynamic Typing.\"\"\""
   ]
  },
  {
   "cell_type": "code",
   "execution_count": null,
   "id": "a486ad43-4db7-4f2e-b02b-44f3e4c0a2a5",
   "metadata": {},
   "outputs": [],
   "source": [
    "# Q-2 Describe the role of predefined keywords in Python and provide examples of how they are used in a Program. \n",
    "\"\"\" In Python, predefined keywords are reserved words that have a specific meaning and functionality within the language. They cannot \n",
    "    be used as identifiers (variable names, function names, etc.).\n",
    "    Keywords like if, else, for, while, def, class, import, from, as, global, nonlocal,lambda, int, float, char, bollean,dict,list,and, or, not etc.\n",
    "    Examples:-\n",
    "    1) a= 23\n",
    "    if a<18 :\n",
    "    print(\"It's not eligible for vote\")\n",
    "    elif a>18:\n",
    "    print(\"Eligible for vote\")\n",
    "    else:\n",
    "    print(\"Not specified\")\n",
    "\n",
    "    2) b=int(input(\"Enter your father age:\"))\n",
    "       c=int(input(\"Enter your age:\"))\n",
    "       if b == c:\n",
    "       print(\"The size of clothes are same\")\n",
    "       else:\n",
    "       print(\"Size of clothes are not same\") \"\"\"\n",
    "    "
   ]
  },
  {
   "cell_type": "code",
   "execution_count": 1,
   "id": "e3a90016-0c15-495a-8f53-9646b8c746fd",
   "metadata": {},
   "outputs": [
    {
     "data": {
      "text/plain": [
       "'Definition: Mutable objects can be modified after they are created. This means you can change their contents (add, remove, or update elements) \\n   without creating a new object.\\n   Examples: Lists, dictionaries, sets.\\n   my_list = [1, 2, 3]\\n   my_list.append(4)\\n   print(my_list)\\n\\n  Definition: Immutable objects cannot be modified after creation. If you need to change their value, you must create a new object.\\n  Examples: Integers, floats, strings, tuples, booleans\\n  my_string = \"Hello\"\\n  my_string += \" World\" \\n  print(my_string) '"
      ]
     },
     "execution_count": 1,
     "metadata": {},
     "output_type": "execute_result"
    }
   ],
   "source": [
    "# Q-3 Compare and contrast mutable and immutable objects in Python with examples.\n",
    "\"\"\"Definition: Mutable objects can be modified after they are created. This means you can change their contents (add, remove, or update elements) \n",
    "   without creating a new object.\n",
    "   Examples: Lists, dictionaries, sets.\n",
    "   my_list = [1, 2, 3]\n",
    "   my_list.append(4)\n",
    "   print(my_list)\n",
    "\n",
    "  Definition: Immutable objects cannot be modified after creation. If you need to change their value, you must create a new object.\n",
    "  Examples: Integers, floats, strings, tuples, booleans\n",
    "  my_string = \"Hello\"\n",
    "  my_string += \" World\" \n",
    "  print(my_string) \"\"\"\n",
    "   "
   ]
  },
  {
   "cell_type": "code",
   "execution_count": 5,
   "id": "77d40929-8454-4859-9cbe-07a2fea8b928",
   "metadata": {},
   "outputs": [
    {
     "data": {
      "text/plain": [
       "' There are many types of operations are given below:-\\n    1-Arithmetic Operations- It is used for the mathmatical operations.\\n    like- Addition, Subtraction, Multiplication, Division, Modulus, Exponentation.\\n\\n    2-Comparision Operation-It is used for the compare two values and return a Boolean result.\\n    like-Equal to (==), Not Equal to (!=), Greater than(>), Less than(<), Less than or equal to (<=>, Greater than or equal to (>=).\\n\\n    3-Logical Operation- Use to combine and manipulate boolean values.\\n    like- Logical and (&) \\n    ex- result = (7>5) and (8<15)\\n        result is true.\\n\\n        Logical or (or)\\n    ex- result = (7>5) or (20<15)\\n        result is true\\n\\n        Logical Not.\\n    ex- result = not(pwskills == course)\\n        result is true\\n\\n    4- Assignment Operation- Used to assign values to variables.\\n       Assignment(=)\\n       Addition Assignment (+=)\\n       Subtraction Assigb=nment (-=)\\n       Multiplication Assignment (*=)\\n       Division Assignment (/=)\\n       Floor Division (//=)\\n       Exponentiate (**=)\\n\\n    5- Membership Operation- Used to test if a value is present in a sequence.\\n       in \\n       not in\\n\\n    6- Identity Operations- Used to compare the memory location of two objects.\\n       Is\\n       Is not\\n\\n    7- Bitwise Operations-a character that manipulates individual bits in a binary pattern.\\n       Bitwise AND (&)\\n       Bitwise OR (|)\\n       Bitwise XOR (^)\\n       NOT (~) '"
      ]
     },
     "execution_count": 5,
     "metadata": {},
     "output_type": "execute_result"
    }
   ],
   "source": [
    "# Q-4 Discuss the different types of operators in Python and provide examples of how they are used.\n",
    "\"\"\" There are many types of operations are given below:-\n",
    "    1-Arithmetic Operations- It is used for the mathmatical operations.\n",
    "    like- Addition, Subtraction, Multiplication, Division, Modulus, Exponentation.\n",
    "\n",
    "    2-Comparision Operation-It is used for the compare two values and return a Boolean result.\n",
    "    like-Equal to (==), Not Equal to (!=), Greater than(>), Less than(<), Less than or equal to (<=>, Greater than or equal to (>=).\n",
    "\n",
    "    3-Logical Operation- Use to combine and manipulate boolean values.\n",
    "    like- Logical and (&) \n",
    "    ex- result = (7>5) and (8<15)\n",
    "        result is true.\n",
    "\n",
    "        Logical or (or)\n",
    "    ex- result = (7>5) or (20<15)\n",
    "        result is true\n",
    "\n",
    "        Logical Not.\n",
    "    ex- result = not(pwskills == course)\n",
    "        result is true\n",
    "\n",
    "    4- Assignment Operation- Used to assign values to variables.\n",
    "       Assignment(=)\n",
    "       Addition Assignment (+=)\n",
    "       Subtraction Assigb=nment (-=)\n",
    "       Multiplication Assignment (*=)\n",
    "       Division Assignment (/=)\n",
    "       Floor Division (//=)\n",
    "       Exponentiate (**=)\n",
    "\n",
    "    5- Membership Operation- Used to test if a value is present in a sequence.\n",
    "       in \n",
    "       not in\n",
    "\n",
    "    6- Identity Operations- Used to compare the memory location of two objects.\n",
    "       Is\n",
    "       Is not\n",
    "\n",
    "    7- Bitwise Operations-a character that manipulates individual bits in a binary pattern.\n",
    "       Bitwise AND (&)\n",
    "       Bitwise OR (|)\n",
    "       Bitwise XOR (^)\n",
    "       NOT (~) \"\"\""
   ]
  },
  {
   "cell_type": "code",
   "execution_count": 7,
   "id": "928d3cc6-da8b-4a9a-9274-771148f36479",
   "metadata": {},
   "outputs": [
    {
     "data": {
      "text/plain": [
       "' The process of changing of datatype of a value or object in python knuwn as Type Casting.\\n    There are two types of type casting are given below:-\\n    1) Implicit Type Casting- Python automatically executes type conversion to ensure that operations are compatible.\\n    Ex- x=5\\n        y=2.5\\n        result(x+y)\\n    2) Explicit Type Casting- Explicit type casting is the process of modifying the data type of a value or object using built-in functions.\\n       Ex- x=22.5\\n           y=int(x)\\n           print(y)\\n           result is 22 '"
      ]
     },
     "execution_count": 7,
     "metadata": {},
     "output_type": "execute_result"
    }
   ],
   "source": [
    "# Q-5  Explain the concept of type casting in Python with examples.\n",
    "\"\"\" The process of changing of datatype of a value or object in python knuwn as Type Casting.\n",
    "    There are two types of type casting are given below:-\n",
    "    1) Implicit Type Casting- Python automatically executes type conversion to ensure that operations are compatible.\n",
    "    Ex- x=5\n",
    "        y=2.5\n",
    "        result(x+y)\n",
    "    2) Explicit Type Casting- Explicit type casting is the process of modifying the data type of a value or object using built-in functions.\n",
    "       Ex- x=22.5\n",
    "           y=int(x)\n",
    "           print(y)\n",
    "           result is 22 \"\"\""
   ]
  },
  {
   "cell_type": "code",
   "execution_count": 9,
   "id": "ed532888-7b10-4e11-add5-24a657b8dbdf",
   "metadata": {},
   "outputs": [
    {
     "data": {
      "text/plain": [
       "' They enable we to make code decisions based on predefined conditions.\\n    1) IF \\n    2) If-else\\n    3) If-elif-else\\n    4)Nested-if-else\\n\\n    Example of IF statement- x=10\\n                             if x>5:\\n                             print(\"x is greater than 5\")\\n    Example of IF-else Statement- age=18\\n                                  if age >=18:\\n                                  print(\"You are adult\")\\n                                  else:\\n                                  print(\"You are not adult\")\\n\\n    Example of IF-elif-else Statement- score=75\\n                                       if score => 90:\\n                                       print(\"A\")\\n                                       elif score >=80:\\n                                       print(\"B\")\\n                                       else:\\n                                       print(\"You are passes\") '"
      ]
     },
     "execution_count": 9,
     "metadata": {},
     "output_type": "execute_result"
    }
   ],
   "source": [
    "# Q-6  How do conditional statements work in Python? Illustrate with examples.\n",
    "\"\"\" They enable we to make code decisions based on predefined conditions.\n",
    "    1) IF \n",
    "    2) If-else\n",
    "    3) If-elif-else\n",
    "    4)Nested-if-else\n",
    "\n",
    "    Example of IF statement- x=10\n",
    "                             if x>5:\n",
    "                             print(\"x is greater than 5\")\n",
    "    Example of IF-else Statement- age=18\n",
    "                                  if age >=18:\n",
    "                                  print(\"You are adult\")\n",
    "                                  else:\n",
    "                                  print(\"You are not adult\")\n",
    "\n",
    "    Example of IF-elif-else Statement- score=75\n",
    "                                       if score => 90:\n",
    "                                       print(\"A\")\n",
    "                                       elif score >=80:\n",
    "                                       print(\"B\")\n",
    "                                       else:\n",
    "                                       print(\"You are passes\") \"\"\"\n",
    "                             "
   ]
  },
  {
   "cell_type": "code",
   "execution_count": 11,
   "id": "a32bd992-a09d-4ec7-8ffd-3777c506afe2",
   "metadata": {},
   "outputs": [
    {
     "data": {
      "text/plain": [
       "' Python offers two primary types of loops:\\n    1. For Loop:\\n    Use case: Iterating over a sequence (e.g., list, tuple, string, range) or any iterable object.\\n    Example:numbers = [1, 2, 3, 4, 5]\\n           for num in numbers:\\n            print(num)\\n    Output is-\\n2\\n3\\n4\\n5\\n\\n  2. While Loop:\\n  Use case: Repeating a block of code as long as a condition is true.\\n  Example:count = 0\\n          while count < 5:\\n          print(\"Count:\", count)\\n          count += 1 \\n   Output is-Count: 0\\nCount: 1\\nCount: 2\\nCount: 3\\nCount: 4\\n\\n    Nested Loops: You can nest loops within each other to iterate over multiple dimensions of data.\\n    Break Statement: This statement allows you to exit a loop prematurely.\\n    Continue Statement: This statement skips the current iteration and moves to the next one. '"
      ]
     },
     "execution_count": 11,
     "metadata": {},
     "output_type": "execute_result"
    }
   ],
   "source": [
    "# Q-7 Describe the different types of loops in Python and their use cases with examples.\n",
    "\"\"\" Python offers two primary types of loops:\n",
    "    1. For Loop:\n",
    "    Use case: Iterating over a sequence (e.g., list, tuple, string, range) or any iterable object.\n",
    "    Example:numbers = [1, 2, 3, 4, 5]\n",
    "           for num in numbers:\n",
    "            print(num)\n",
    "    Output is-\n",
    "2\n",
    "3\n",
    "4\n",
    "5\n",
    "\n",
    "  2. While Loop:\n",
    "  Use case: Repeating a block of code as long as a condition is true.\n",
    "  Example:count = 0\n",
    "          while count < 5:\n",
    "          print(\"Count:\", count)\n",
    "          count += 1 \n",
    "   Output is-Count: 0\n",
    "Count: 1\n",
    "Count: 2\n",
    "Count: 3\n",
    "Count: 4\n",
    "\n",
    "    Nested Loops: You can nest loops within each other to iterate over multiple dimensions of data.\n",
    "    Break Statement: This statement allows you to exit a loop prematurely.\n",
    "    Continue Statement: This statement skips the current iteration and moves to the next one. \"\"\""
   ]
  },
  {
   "cell_type": "code",
   "execution_count": null,
   "id": "da7529b4-2df7-4b2b-91f4-454f1d4b15cc",
   "metadata": {},
   "outputs": [],
   "source": []
  }
 ],
 "metadata": {
  "kernelspec": {
   "display_name": "Python 3 (ipykernel)",
   "language": "python",
   "name": "python3"
  },
  "language_info": {
   "codemirror_mode": {
    "name": "ipython",
    "version": 3
   },
   "file_extension": ".py",
   "mimetype": "text/x-python",
   "name": "python",
   "nbconvert_exporter": "python",
   "pygments_lexer": "ipython3",
   "version": "3.12.4"
  }
 },
 "nbformat": 4,
 "nbformat_minor": 5
}
